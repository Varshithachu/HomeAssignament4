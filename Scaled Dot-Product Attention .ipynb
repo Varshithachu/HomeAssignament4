{
  "nbformat": 4,
  "nbformat_minor": 0,
  "metadata": {
    "colab": {
      "provenance": []
    },
    "kernelspec": {
      "name": "python3",
      "display_name": "Python 3"
    },
    "language_info": {
      "name": "python"
    }
  },
  "cells": [
    {
      "cell_type": "code",
      "source": [
        "import numpy as np"
      ],
      "metadata": {
        "id": "UYgBP6uBynmR"
      },
      "execution_count": 6,
      "outputs": []
    },
    {
      "cell_type": "code",
      "source": [
        "\n",
        "def scaled_dot_product_attention(Q, K, V):\n",
        "    \"\"\"\n",
        "    Compute scaled dot-product attention.\n",
        "\n",
        "    Args:\n",
        "    - Q (np.array): Query matrix\n",
        "    - K (np.array): Key matrix\n",
        "    - V (np.array): Value matrix\n",
        "\n",
        "    Prints:\n",
        "    - Attention weights after softmax\n",
        "    - Final output after multiplying weights with V\n",
        "    \"\"\"\n",
        "    d_k = K.shape[1]\n",
        "\n",
        "    # Dot product of Q and transpose of K\n",
        "    scores = np.dot(Q, K.T)\n",
        "\n",
        "    # Scale scores by sqrt(d_k)\n",
        "    scaled_scores = scores / np.sqrt(d_k)\n",
        "\n",
        "    # Apply softmax to get attention weights\n",
        "    weights = np.exp(scaled_scores) / np.sum(np.exp(scaled_scores), axis=-1, keepdims=True)\n",
        "\n",
        "    # Multiply weights by V to get output\n",
        "    output = np.dot(weights, V)\n",
        "\n",
        "    print(\"Attention Weights:\\n\", weights)\n",
        "    print(\"Output:\\n\", output)"
      ],
      "metadata": {
        "id": "3TCPNYefysPY"
      },
      "execution_count": 7,
      "outputs": []
    },
    {
      "cell_type": "code",
      "source": [
        "# Test Inputs\n",
        "Q = np.array([[1, 0, 1, 0], [0, 1, 0, 1]])\n",
        "K = np.array([[1, 0, 1, 0], [0, 1, 0, 1]])\n",
        "V = np.array([[1, 2, 3, 4], [5, 6, 7, 8]])"
      ],
      "metadata": {
        "id": "Y48JYwDXyvn1"
      },
      "execution_count": 8,
      "outputs": []
    },
    {
      "cell_type": "code",
      "source": [
        "scaled_dot_product_attention(Q, K, V)"
      ],
      "metadata": {
        "id": "kSjhirI0yybx",
        "outputId": "15895120-622e-4e74-f809-4314d6bc6d44",
        "colab": {
          "base_uri": "https://localhost:8080/"
        }
      },
      "execution_count": 9,
      "outputs": [
        {
          "output_type": "stream",
          "name": "stdout",
          "text": [
            "Attention Weights:\n",
            " [[0.73105858 0.26894142]\n",
            " [0.26894142 0.73105858]]\n",
            "Output:\n",
            " [[2.07576569 3.07576569 4.07576569 5.07576569]\n",
            " [3.92423431 4.92423431 5.92423431 6.92423431]]\n"
          ]
        }
      ]
    }
  ]
}